{
 "cells": [
  {
   "cell_type": "markdown",
   "metadata": {},
   "source": [
    "## Importing libraries"
   ]
  },
  {
   "cell_type": "code",
   "execution_count": 47,
   "metadata": {},
   "outputs": [],
   "source": [
    "import pandas as pd\n",
    "import random\n",
    "import json\n",
    "import matplotlib.pyplot as plt\n",
    "from tqdm import tqdm, tnrange, tqdm_notebook\n",
    "import pickle"
   ]
  },
  {
   "cell_type": "markdown",
   "metadata": {},
   "source": [
    "## Data and Setting\n",
    "### Multiple category to single category for the articles"
   ]
  },
  {
   "cell_type": "markdown",
   "metadata": {},
   "source": [
    "In this part, `wiki-topcats-categories.txt` file will be read to attach only one category to one article. Selection will be uniformly random for the categories. \n",
    "The new file containing this change will be named as `wiki-topcats-categories-new.txt` ."
   ]
  },
  {
   "cell_type": "code",
   "execution_count": 5,
   "metadata": {
    "scrolled": true
   },
   "outputs": [],
   "source": [
    "list_of_pages_per_categ = open(\"wiki-topcats-categories.txt\", \"r\")\n",
    "# categ_to_page dictionary consists categories as keys, article number as values.\n",
    "categ_to_page = {}\n",
    "a = list_of_pages_per_categ.readline()\n",
    "while a != '':\n",
    "    a = a.split()\n",
    "    categ_to_page[a[0]] = a[1:]\n",
    "    a = list_of_pages_per_categ.readline()"
   ]
  },
  {
   "cell_type": "code",
   "execution_count": 6,
   "metadata": {},
   "outputs": [],
   "source": [
    "# page_to_single_category dictionary is created to see all existing categories for each articles\n",
    "# while keys contain article number, values contain corresponding categorie(s) for the key\n",
    "page_to_single_category = {} \n",
    "for i in categ_to_page.keys():\n",
    "    for j in range(len(categ_to_page[i])):\n",
    "        if categ_to_page[i][j] in page_to_single_category: \n",
    "            page_to_single_category[categ_to_page[i][j]].append(i) \n",
    "        else: \n",
    "            page_to_single_category[categ_to_page[i][j]]=[i] \n",
    "\n",
    "# generating a uniform random sampling from values for each key\n",
    "for i in page_to_single_category.keys():\n",
    "    page_to_single_category[i] = random.choice(page_to_single_category[i])"
   ]
  },
  {
   "cell_type": "code",
   "execution_count": 7,
   "metadata": {},
   "outputs": [],
   "source": [
    "# creating a dictionary to match categories(key) to articles(value)\n",
    "# This is known as swapping key and value in python dictionaries\n",
    "new_categ_to_page = {} \n",
    "for key, value in page_to_single_category.items(): \n",
    "    if value in new_categ_to_page: \n",
    "        new_categ_to_page[value].append(key) \n",
    "    else: \n",
    "        new_categ_to_page[value]=[key] "
   ]
  },
  {
   "cell_type": "code",
   "execution_count": 8,
   "metadata": {},
   "outputs": [],
   "source": [
    "# writing a new version of `wiki-topcats-categories.txt` in a file\n",
    "with open('wiki-topcats-categories-new.txt', 'w') as file:\n",
    "    for i in new_categ_to_page.keys():\n",
    "        my_str = i+' '+ \" \".join(new_categ_to_page[i])\n",
    "        file.write(my_str)\n",
    "        file.write(\"\\n\")"
   ]
  },
  {
   "cell_type": "code",
   "execution_count": 9,
   "metadata": {
    "scrolled": true
   },
   "outputs": [
    {
     "name": "stdout",
     "output_type": "stream",
     "text": [
      "0 Chiasmal syndrome\n",
      "\n"
     ]
    }
   ],
   "source": [
    "page_names = open(\"wiki-topcats-page-names.txt\", \"r\")\n",
    "print(page_names.readline())"
   ]
  },
  {
   "cell_type": "code",
   "execution_count": 10,
   "metadata": {},
   "outputs": [],
   "source": [
    "reduced = pd.read_csv('wikigraph_reduced.csv', sep='\\t').rename(\n",
    "    columns = {'Unnamed: 0' : 'edge', '0' : 'source', '1' : 'target'} )"
   ]
  },
  {
   "cell_type": "code",
   "execution_count": 11,
   "metadata": {},
   "outputs": [
    {
     "data": {
      "text/html": [
       "<div>\n",
       "<style scoped>\n",
       "    .dataframe tbody tr th:only-of-type {\n",
       "        vertical-align: middle;\n",
       "    }\n",
       "\n",
       "    .dataframe tbody tr th {\n",
       "        vertical-align: top;\n",
       "    }\n",
       "\n",
       "    .dataframe thead th {\n",
       "        text-align: right;\n",
       "    }\n",
       "</style>\n",
       "<table border=\"1\" class=\"dataframe\">\n",
       "  <thead>\n",
       "    <tr style=\"text-align: right;\">\n",
       "      <th></th>\n",
       "      <th>edge</th>\n",
       "      <th>source</th>\n",
       "      <th>target</th>\n",
       "    </tr>\n",
       "  </thead>\n",
       "  <tbody>\n",
       "    <tr>\n",
       "      <th>0</th>\n",
       "      <td>796</td>\n",
       "      <td>95</td>\n",
       "      <td>1185516</td>\n",
       "    </tr>\n",
       "    <tr>\n",
       "      <th>1</th>\n",
       "      <td>909</td>\n",
       "      <td>108</td>\n",
       "      <td>1059989</td>\n",
       "    </tr>\n",
       "    <tr>\n",
       "      <th>2</th>\n",
       "      <td>910</td>\n",
       "      <td>108</td>\n",
       "      <td>1062426</td>\n",
       "    </tr>\n",
       "    <tr>\n",
       "      <th>3</th>\n",
       "      <td>911</td>\n",
       "      <td>108</td>\n",
       "      <td>1161925</td>\n",
       "    </tr>\n",
       "    <tr>\n",
       "      <th>4</th>\n",
       "      <td>1141</td>\n",
       "      <td>134</td>\n",
       "      <td>541222</td>\n",
       "    </tr>\n",
       "    <tr>\n",
       "      <th>...</th>\n",
       "      <td>...</td>\n",
       "      <td>...</td>\n",
       "      <td>...</td>\n",
       "    </tr>\n",
       "    <tr>\n",
       "      <th>483089</th>\n",
       "      <td>28511768</td>\n",
       "      <td>1791481</td>\n",
       "      <td>1060990</td>\n",
       "    </tr>\n",
       "    <tr>\n",
       "      <th>483090</th>\n",
       "      <td>28511769</td>\n",
       "      <td>1791481</td>\n",
       "      <td>1061382</td>\n",
       "    </tr>\n",
       "    <tr>\n",
       "      <th>483091</th>\n",
       "      <td>28511771</td>\n",
       "      <td>1791481</td>\n",
       "      <td>1110380</td>\n",
       "    </tr>\n",
       "    <tr>\n",
       "      <th>483092</th>\n",
       "      <td>28511772</td>\n",
       "      <td>1791482</td>\n",
       "      <td>80740</td>\n",
       "    </tr>\n",
       "    <tr>\n",
       "      <th>483093</th>\n",
       "      <td>28511785</td>\n",
       "      <td>1791484</td>\n",
       "      <td>235100</td>\n",
       "    </tr>\n",
       "  </tbody>\n",
       "</table>\n",
       "<p>483094 rows × 3 columns</p>\n",
       "</div>"
      ],
      "text/plain": [
       "            edge   source   target\n",
       "0            796       95  1185516\n",
       "1            909      108  1059989\n",
       "2            910      108  1062426\n",
       "3            911      108  1161925\n",
       "4           1141      134   541222\n",
       "...          ...      ...      ...\n",
       "483089  28511768  1791481  1060990\n",
       "483090  28511769  1791481  1061382\n",
       "483091  28511771  1791481  1110380\n",
       "483092  28511772  1791482    80740\n",
       "483093  28511785  1791484   235100\n",
       "\n",
       "[483094 rows x 3 columns]"
      ]
     },
     "execution_count": 11,
     "metadata": {},
     "output_type": "execute_result"
    }
   ],
   "source": [
    "reduced"
   ]
  },
  {
   "cell_type": "code",
   "execution_count": 12,
   "metadata": {
    "scrolled": true
   },
   "outputs": [
    {
     "data": {
      "text/plain": [
       "'0 Chiasmal syndrome\\n'"
      ]
     },
     "execution_count": 12,
     "metadata": {},
     "output_type": "execute_result"
    }
   ],
   "source": [
    "page_names = open(\"wiki-topcats-page-names.txt\", \"r\")\n",
    "page_names.readline()"
   ]
  },
  {
   "cell_type": "markdown",
   "metadata": {},
   "source": [
    "## RQ1\n",
    "### Build the graph G=(V, E), where V is the set of articles and E the hyperlinks among them. Then, provide its basic information:\n"
   ]
  },
  {
   "cell_type": "code",
   "execution_count": 36,
   "metadata": {},
   "outputs": [],
   "source": [
    "def graph(reduced_df):\n",
    "    \n",
    "    edges = [(reduced.iloc[i].source, reduced.iloc[i].target) for i in range(len(reduced))]\n",
    "    vertices = list(set(list(reduced.source) + list(reduced.target)))\n",
    "    \n",
    "    return edges, vertices"
   ]
  },
  {
   "cell_type": "markdown",
   "metadata": {},
   "source": [
    "### Is the graph directed?"
   ]
  },
  {
   "cell_type": "code",
   "execution_count": 14,
   "metadata": {},
   "outputs": [],
   "source": [
    "def directed(reduced_df):\n",
    "    \n",
    "    keep = 0\n",
    "    for i in range(len(reduced_df)):\n",
    "        if  (reduced_df.iloc[i].source in reduced_df.target and reduced_df.iloc[i].target in reduced_df.source):\n",
    "            keep += 1\n",
    "            \n",
    "    if keep == len(reduced_df):\n",
    "        \n",
    "        return False\n",
    "    \n",
    "    else:\n",
    "        \n",
    "        return True            "
   ]
  },
  {
   "cell_type": "code",
   "execution_count": 15,
   "metadata": {},
   "outputs": [
    {
     "name": "stdout",
     "output_type": "stream",
     "text": [
      "The graph is directed.\n"
     ]
    }
   ],
   "source": [
    "if directed(reduced) == True:\n",
    "    print(\"The graph is directed.\")\n",
    "else:\n",
    "        print(\"The graph is not directed.\")"
   ]
  },
  {
   "cell_type": "markdown",
   "metadata": {},
   "source": [
    "### How many articles are we considering?"
   ]
  },
  {
   "cell_type": "code",
   "execution_count": 16,
   "metadata": {},
   "outputs": [],
   "source": [
    "e, v = graph(reduced)"
   ]
  },
  {
   "cell_type": "code",
   "execution_count": 17,
   "metadata": {},
   "outputs": [
    {
     "name": "stdout",
     "output_type": "stream",
     "text": [
      "There are totally 98343 articles.\n"
     ]
    }
   ],
   "source": [
    "print(\"There are totally \" + str(len(v)) + \" articles.\")"
   ]
  },
  {
   "cell_type": "markdown",
   "metadata": {},
   "source": [
    "### How many hyperlinks between pages exist?"
   ]
  },
  {
   "cell_type": "code",
   "execution_count": 18,
   "metadata": {},
   "outputs": [
    {
     "name": "stdout",
     "output_type": "stream",
     "text": [
      "There are 483094 hyperlinks.\n"
     ]
    }
   ],
   "source": [
    "print(\"There are \" + str(len(reduced)) + \" hyperlinks.\")"
   ]
  },
  {
   "cell_type": "markdown",
   "metadata": {},
   "source": [
    "### Compute the average number of links in an arbitrary page. What is the graph density? Do you believe that the graph is dense or sparse? Is the graph dense?"
   ]
  },
  {
   "cell_type": "code",
   "execution_count": 16,
   "metadata": {},
   "outputs": [],
   "source": [
    "# k = number of arbitrary page(s) to be chosen\n",
    "def avg_number_of_links(k, reduced_df):\n",
    "    my_sample = reduced_df.sample(k)\n",
    "    total = 0\n",
    "    for i in range(k):\n",
    "        total += len(reduced_df[reduced_df.target == my_sample.iloc[i].source])\n",
    "    average = total/k\n",
    "    return average"
   ]
  },
  {
   "cell_type": "code",
   "execution_count": 17,
   "metadata": {},
   "outputs": [
    {
     "data": {
      "text/plain": [
       "42.25"
      ]
     },
     "execution_count": 17,
     "metadata": {},
     "output_type": "execute_result"
    }
   ],
   "source": [
    "avg_number_of_links(4, reduced)"
   ]
  },
  {
   "cell_type": "code",
   "execution_count": 18,
   "metadata": {},
   "outputs": [],
   "source": [
    "def graph_density(reduced_df):\n",
    "    e, v = graph(reduced_df)\n",
    "    if directed(reduced_df):\n",
    "        D = len(e)/(len(v)*(len(v)-1))\n",
    "    else:\n",
    "        D = 2 * len(e)/(len(v)*(len(v)-1))\n",
    "    return round(D, 3)"
   ]
  },
  {
   "cell_type": "code",
   "execution_count": 19,
   "metadata": {},
   "outputs": [
    {
     "name": "stdout",
     "output_type": "stream",
     "text": [
      "0.0\n"
     ]
    }
   ],
   "source": [
    "print(graph_density(reduced))"
   ]
  },
  {
   "cell_type": "markdown",
   "metadata": {},
   "source": [
    "According to result that is created by `graph_density` function, the graph is found sparse."
   ]
  },
  {
   "cell_type": "markdown",
   "metadata": {},
   "source": [
    "### Visualize the nodes' degree distribution"
   ]
  },
  {
   "cell_type": "code",
   "execution_count": 20,
   "metadata": {},
   "outputs": [],
   "source": [
    "def degree_dist_plot(reduced_df):\n",
    "    e, v = graph(reduced_df)\n",
    "    degrees = [ len(reduced_df[reduced_df.source == i] ) + len(reduced_df[reduced_df.target == i])  for i in v]\n",
    "    plt.hist(degrees)\n",
    "    plt.xscale(\"log\")\n",
    "    plt.yscale(\"log\")\n",
    "    plt.xlabel(\"Degree (log-scale)\")\n",
    "    plt.ylabel(\"Number of nodes (log-scale)\")\n",
    "    plt.title(\"Degree Distribution\")\n",
    "    plt.show()    "
   ]
  },
  {
   "cell_type": "code",
   "execution_count": 21,
   "metadata": {},
   "outputs": [
    {
     "data": {
      "image/png": "[encoded data removed]",
      "text/plain": [
       "<Figure size 432x288 with 1 Axes>"
      ]
     },
     "metadata": {
      "needs_background": "light"
     },
     "output_type": "display_data"
    }
   ],
   "source": [
    "degree_dist_plot(reduced)"
   ]
  },
  {
   "cell_type": "markdown",
   "metadata": {},
   "source": [
    "# RQ2"
   ]
  },
  {
   "cell_type": "code",
   "execution_count": null,
   "metadata": {},
   "outputs": [],
   "source": [
    "G = nx.DiGraph()\n",
    "G.add_nodes_from(v)\n",
    "G.add_edges_from(e)"
   ]
  },
  {
   "cell_type": "code",
   "execution_count": null,
   "metadata": {},
   "outputs": [],
   "source": [
    "def d_clicks(G,v,d):\n",
    "    p=nx.predecessor(G,v)\n",
    "    l=[]\n",
    "    for i in p.keys():\n",
    "        if len(p[i])==d:\n",
    "            l.append(p[i])\n",
    "    return l"
   ]
  },
  {
   "cell_type": "markdown",
   "metadata": {},
   "source": [
    "## One example with 10 clicks"
   ]
  },
  {
   "cell_type": "code",
   "execution_count": null,
   "metadata": {},
   "outputs": [],
   "source": [
    "d_clicks(G,95,10)"
   ]
  },
  {
   "cell_type": "markdown",
   "metadata": {},
   "source": [
    "# RQ4"
   ]
  },
  {
   "cell_type": "markdown",
   "metadata": {},
   "source": [
    "## Given in input two categories: C1 and C2, we get the subgraph induced by all the articles in the two categories."
   ]
  },
  {
   "cell_type": "code",
   "execution_count": 28,
   "metadata": {},
   "outputs": [],
   "source": [
    "def getInducedGraphBy(c1,c2):\n",
    "    \n",
    "    newCategoriesPointer = open(\"wiki-topcats-categories-new.txt\", \"r\")\n",
    "    newCategoriesLine = newCategoriesPointer.readline()\n",
    "    counter = 0\n",
    "    c1Articles = {}\n",
    "    c2Articles = {}\n",
    "    edges = []\n",
    "    vertices = set()\n",
    "    \n",
    "    while newCategoriesLine != '' and counter != 2:\n",
    "        catName = newCategoriesLine.split()[0].split(\":\")[1].split(\";\")[0]\n",
    "        if catName == c1 :\n",
    "            counter+=1\n",
    "            c1Articles = set(newCategoriesLine.split()[1:])\n",
    "        elif catName == c2:\n",
    "            counter+=1\n",
    "            c2Articles = set(newCategoriesLine.split()[1:])\n",
    "        newCategoriesLine = newCategoriesPointer.readline()\n",
    "    \n",
    "    for i in range(len(reduced)):\n",
    "        source = str(reduced.iloc[i].source)\n",
    "        target = str(reduced.iloc[i].target)\n",
    "        if source in c1Articles or source in c2Articles :\n",
    "            if target in c1Articles or target in c2Articles :\n",
    "                edges.append((reduced.iloc[i].source, reduced.iloc[i].target))\n",
    "                vertices.add(reduced.iloc[i].source)\n",
    "                vertices.add(reduced.iloc[i].target)\n",
    "                \n",
    "    vertices = list(vertices)\n",
    "    return edges, vertices"
   ]
  },
  {
   "cell_type": "code",
   "execution_count": 20,
   "metadata": {},
   "outputs": [
    {
     "name": "stdout",
     "output_type": "stream",
     "text": [
      "[(538870, 540020), (540020, 538870)]\n"
     ]
    }
   ],
   "source": [
    "edge , graph = getInducedGraphBy(\"Buprestoidea\",\"People_from_Worcester\")\n",
    "\n",
    "#edge = [(1,3),(1,5),(3,5),(2,3),(5,4),(4,6),(2,6)]\n",
    "\n",
    "print(edge)"
   ]
  },
  {
   "cell_type": "markdown",
   "metadata": {},
   "source": [
    "## Let v and u two arbitrary pages in the subgraph. What is the minimum set of hyperlinks one can remove to disconnect u and v?"
   ]
  },
  {
   "cell_type": "code",
   "execution_count": 22,
   "metadata": {},
   "outputs": [],
   "source": [
    "def deleteEdge(graph , start , end):\n",
    "    list = graph[start]\n",
    "    list.remove(end)\n",
    "\n",
    "\n",
    "def bfs(graph , start):\n",
    "    parentMap = {}\n",
    "    visited = []\n",
    "    \n",
    "    queue = []\n",
    "    qStartIndex = 0\n",
    "    parentMap[start] = -1\n",
    "    queue.append(start)\n",
    "    \n",
    "    while qStartIndex < len(queue):\n",
    "        curr = queue[qStartIndex]\n",
    "        qStartIndex+=1\n",
    "        visited.append(curr)\n",
    "        for k in graph[curr]:\n",
    "            if k not in visited:\n",
    "                queue.append(k)\n",
    "                if k not in parentMap:\n",
    "                    parentMap[k] = curr\n",
    "    return parentMap"
   ]
  },
  {
   "cell_type": "code",
   "execution_count": 23,
   "metadata": {},
   "outputs": [],
   "source": [
    "def minEdgesToDel(input1 , start , end):\n",
    "    n = len(input1)\n",
    "    graph = {}\n",
    "    for i in range(n):\n",
    "        n1 , n2 = input1[i]\n",
    "        li = []\n",
    "        \n",
    "        if n1 in graph:\n",
    "            li = graph[n1]\n",
    "        else:\n",
    "            li = []\n",
    "        \n",
    "        li.append(n2)\n",
    "        graph[n1] = li\n",
    "        if n2 in graph:\n",
    "            li = graph[n2]\n",
    "        else:\n",
    "            li = []\n",
    "        li.append(n1)\n",
    "        graph[n2] = li\n",
    "        #print(graph)\n",
    "    \n",
    "    minEdgeDeleteCount = 0\n",
    "    while True:\n",
    "        parentMap = bfs(graph , start)\n",
    "        \n",
    "        if end in parentMap:\n",
    "            minEdgeDeleteCount += 1\n",
    "            parent = parentMap[end]\n",
    "            currEnd = end\n",
    "            while parent != -1:\n",
    "                deleteEdge(graph,parent,currEnd)\n",
    "                currEnd = parent\n",
    "                parent = parentMap[currEnd]\n",
    "        else:\n",
    "            break\n",
    "    \n",
    "    return minEdgeDeleteCount"
   ]
  },
  {
   "cell_type": "code",
   "execution_count": 24,
   "metadata": {},
   "outputs": [
    {
     "name": "stdout",
     "output_type": "stream",
     "text": [
      "[(538870, 540020), (540020, 538870)]\n"
     ]
    },
    {
     "data": {
      "text/plain": [
       "2"
      ]
     },
     "execution_count": 24,
     "metadata": {},
     "output_type": "execute_result"
    }
   ],
   "source": [
    "print(edge)\n",
    "#print(graph)\n",
    "\n",
    "minEdgesToDel(edge, 538870 , 540020)"
   ]
  },
  {
   "cell_type": "markdown",
   "metadata": {},
   "source": [
    "# RQ5"
   ]
  },
  {
   "cell_type": "markdown",
   "metadata": {},
   "source": [
    "## Write a function that, given an arbitrary category C0 as input, returns the list of remaning categories sorted by their distance from C0. In particular, the distance between two categories is defined as \n",
    "\n",
    "## distance(C0, Ci) = median(ShortestPath(C0, Ci))\n",
    "\n",
    "## where ShortestPath(C0, Ci) is the set of shortest paths from each pair of nodes in the two categories"
   ]
  },
  {
   "cell_type": "code",
   "execution_count": 31,
   "metadata": {},
   "outputs": [],
   "source": [
    "with open(\"wiki-topcats-categories-new.txt\", \"r\") as f2:\n",
    "    categories = {} # {category0 : [article1, article2, ...], ...., 5: [23, 45, 6]}\n",
    "    categories_names = {} # {category_name : index, ...}\n",
    "    categories_names_by_index = {}\n",
    "    for cat_indx, line in enumerate(f2.readlines()):\n",
    "        line_content = line.split(\";\")\n",
    "        categories[cat_indx] = list(map(int, line_content[1].split()))\n",
    "        categories_names[line_content[0].split(\":\")[1]] = cat_indx\n",
    "        categories_names_by_index[cat_indx] = line_content[0].split(\":\")[1]\n",
    "        "
   ]
  },
  {
   "cell_type": "code",
   "execution_count": 34,
   "metadata": {},
   "outputs": [
    {
     "name": "stdout",
     "output_type": "stream",
     "text": [
      "Please, choose the name of category: \n",
      "\n",
      "Buprestoidea\n",
      "The index of selected category:  0\n"
     ]
    }
   ],
   "source": [
    "C0_name = input(\"Please, choose the name of category: \\n\\n\")\n",
    "C0_idx = categories_names[C0_name]\n",
    "print(\"The index of selected category: \", C0_idx)\n",
    "\n",
    "tmp_selected_category_indx = []\n",
    "# filtering categories with nodes more than 3500\n",
    "for i in range(len(categories)):\n",
    "    if len(categories[i]) > 3500:\n",
    "        tmp_selected_category_indx.append(i)"
   ]
  },
  {
   "cell_type": "code",
   "execution_count": 38,
   "metadata": {},
   "outputs": [],
   "source": [
    "grouped_categories_nodes = [] # nodes grouped per category -- without C0 category\n",
    "categories_nodes = set() # all nodes together -- without C0 category\n",
    "\n",
    "e, v = graph(reduced)\n",
    "\n",
    "# chose the category C0 with nodes only included in the DG graph:\n",
    "C0 = set(categories[C0_idx]).intersection(v)\n",
    "\n",
    "\n",
    "\n",
    "final_selected_category_indx = []\n",
    "# chose categories with nodes only included in the DG graph:\n",
    "for idx in tmp_selected_category_indx[1:]:\n",
    "    tmp_categ = set(categories[idx]).intersection(v)\n",
    "    # if C_i contains different nodes than C0:\n",
    "    C_i = tmp_categ - C0\n",
    "    if len(C_i) != 0 and len(C_i) < 100000:\n",
    "        final_selected_category_indx.append(idx)\n",
    "        grouped_categories_nodes.append(C_i)\n",
    "        categories_nodes = categories_nodes.union(C_i)"
   ]
  },
  {
   "cell_type": "code",
   "execution_count": 39,
   "metadata": {},
   "outputs": [
    {
     "data": {
      "text/plain": [
       "4"
      ]
     },
     "execution_count": 39,
     "metadata": {},
     "output_type": "execute_result"
    }
   ],
   "source": [
    "len(grouped_categories_nodes)"
   ]
  },
  {
   "cell_type": "code",
   "execution_count": 40,
   "metadata": {},
   "outputs": [
    {
     "data": {
      "text/plain": [
       "0"
      ]
     },
     "execution_count": 40,
     "metadata": {},
     "output_type": "execute_result"
    }
   ],
   "source": [
    "len(C0)"
   ]
  },
  {
   "cell_type": "markdown",
   "metadata": {},
   "source": [
    "### Shortest Path func"
   ]
  },
  {
   "cell_type": "code",
   "execution_count": 41,
   "metadata": {},
   "outputs": [],
   "source": [
    "def bfs_shortest_path(graph, start, categories_nodes):\n",
    "    visited_dict = defaultdict(lambda:[False])\n",
    "    queue = [start]\n",
    "    visited_dict[start] = 0\n",
    "    \n",
    "    while queue:\n",
    "        node = queue.pop(0)\n",
    "        distance = visited_dict[node]\n",
    "        try:\n",
    "            for neighbour in graph.neighbors(node):\n",
    "                if visited_dict[neighbour]==[False]:\n",
    "                    visited_dict[neighbour] = distance + 1\n",
    "                    queue.append(neighbour)\n",
    "        except KeyError: pass\n",
    "    return {node:visited_dict[node] for node in categories_nodes}"
   ]
  },
  {
   "cell_type": "markdown",
   "metadata": {},
   "source": [
    "## RQ6"
   ]
  },
  {
   "cell_type": "markdown",
   "metadata": {},
   "source": [
    "Write a function that sorts the categories in the graph according to their PageRank (PR). For this task you need to model the network of categories such that you can apply the PR algorithm."
   ]
  },
  {
   "cell_type": "markdown",
   "metadata": {},
   "source": [
    "The following function is very crucial to solve this question. There are 2 dictionaries that are created. `inlink_dict` provides the nodes(keys), and node's inlink elements(values), just the opposite `outlink_dict` consists the nodes(keys), and node's outlink elements(values). "
   ]
  },
  {
   "cell_type": "code",
   "execution_count": 22,
   "metadata": {},
   "outputs": [],
   "source": [
    "def extensive_dict(reduced, v):\n",
    "    inlink_dict = {}\n",
    "    for i in v:\n",
    "        inlink_dict[i] = list(reduced[reduced.target == i].source)\n",
    "    outlink_dict = {}\n",
    "    for i in v:\n",
    "        outlink_dict[i] = list(reduced[reduced.source == i].target)\n",
    "    return inlink_dict, outlink_dict"
   ]
  },
  {
   "cell_type": "code",
   "execution_count": 23,
   "metadata": {},
   "outputs": [],
   "source": [
    "i_d, o_d = extensive_dict(reduced, v)"
   ]
  },
  {
   "cell_type": "markdown",
   "metadata": {},
   "source": [
    "In the following, `pagerank` function takes vertices, 'inlink_dict, outlink_dict', created by `extensive_dict` function, and number_of_iter, given by user, to find pagerank values for each page that exist in `reduced` dataframe. The function returns `pagerank_dict` dictionary which has keys as pages, and values as pagerank value of the corresponding link."
   ]
  },
  {
   "cell_type": "code",
   "execution_count": 24,
   "metadata": {},
   "outputs": [],
   "source": [
    "def pagerank(v, inlink_dict, outlink_dict, number_of_iter):\n",
    "    pagerank_dict = {}\n",
    "    n = len(v)\n",
    "    for i in v:\n",
    "        pagerank_dict[i] = 1/n\n",
    "    \n",
    "    for iter in tqdm(range(number_of_iter)):\n",
    "        new_pagerank_dict = {}\n",
    "        for i in pagerank_dict.keys():\n",
    "            new_pagerank_dict[i] = 0\n",
    "\n",
    "        for i in pagerank_dict.keys():\n",
    "            inlink_list = inlink_dict[i]\n",
    "\n",
    "            for j in inlink_list:\n",
    "                new_pagerank_dict[i] += pagerank_dict[j]/len(outlink_dict[j])\n",
    "\n",
    "        pagerank_dict = new_pagerank_dict.copy()\n",
    "        \n",
    "    return pagerank_dict\n",
    "    "
   ]
  },
  {
   "cell_type": "code",
   "execution_count": 25,
   "metadata": {},
   "outputs": [
    {
     "name": "stderr",
     "output_type": "stream",
     "text": [
      "100%|██████████| 500/500 [02:09<00:00,  3.87it/s]\n"
     ]
    }
   ],
   "source": [
    "p_d =pagerank(v, i_d , o_d, 500)"
   ]
  },
  {
   "cell_type": "markdown",
   "metadata": {},
   "source": [
    "Next code stores the total value of the pagerank for each categories. `new_categ_to_page` dictionary which is created in the first question is given as input. Another input of that function is pagerank_dict which is the output of the `pagerank` function.  "
   ]
  },
  {
   "cell_type": "code",
   "execution_count": 26,
   "metadata": {},
   "outputs": [],
   "source": [
    "def sort_categ_by_pagerank(new_categ_to_page, pagerank_dict):\n",
    "    pagerank_sort = {}\n",
    "    for categ in new_categ_to_page.keys():\n",
    "        pages_in_categ = new_categ_to_page[categ]\n",
    "        total_score =0\n",
    "        for page in pages_in_categ:\n",
    "            if int(page) in pagerank_dict.keys():\n",
    "                total_score += pagerank_dict[int(page)]\n",
    "        pagerank_sort[categ] = total_score\n",
    "    pagerank_sort = {x: y for x, y in sorted(pagerank_sort.items(), key = lambda item: item[1])}\n",
    "    return pagerank_sort"
   ]
  },
  {
   "cell_type": "code",
   "execution_count": 27,
   "metadata": {},
   "outputs": [],
   "source": [
    "s_c_b_p = sort_categ_by_pagerank(new_categ_to_page, p_d)"
   ]
  },
  {
   "cell_type": "code",
   "execution_count": null,
   "metadata": {},
   "outputs": [],
   "source": []
  }
 ],
 "metadata": {
  "kernelspec": {
   "display_name": "Python 3",
   "language": "python",
   "name": "python3"
  },
  "language_info": {
   "codemirror_mode": {
    "name": "ipython",
    "version": 3
   },
   "file_extension": ".py",
   "mimetype": "text/x-python",
   "name": "python",
   "nbconvert_exporter": "python",
   "pygments_lexer": "ipython3",
   "version": "3.7.9"
  }
 },
 "nbformat": 4,
 "nbformat_minor": 4
}
